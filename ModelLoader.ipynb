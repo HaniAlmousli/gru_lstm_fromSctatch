{
 "cells": [
  {
   "cell_type": "code",
   "execution_count": 1,
   "metadata": {
    "collapsed": true
   },
   "outputs": [],
   "source": [
    "from LSTMClass import *\n",
    "# from GRUClass import *\n",
    "from loader import *\n",
    "import pdb\n",
    "import pickle"
   ]
  },
  {
   "cell_type": "code",
   "execution_count": 2,
   "metadata": {
    "collapsed": true
   },
   "outputs": [],
   "source": [
    "path='~/'\n",
    "name='hani_lstm585'\n",
    "nameckp='hani_lstm'"
   ]
  },
  {
   "cell_type": "code",
   "execution_count": 3,
   "metadata": {
    "collapsed": false
   },
   "outputs": [],
   "source": [
    "conf,[w2idx,idx2w],[bValidLoss,train_loss]=pickle.load(open(path+name+'.pkl','rb'))"
   ]
  },
  {
   "cell_type": "code",
   "execution_count": 4,
   "metadata": {
    "collapsed": false
   },
   "outputs": [
    {
     "name": "stdout",
     "output_type": "stream",
     "text": [
      "\n",
      "<log> Building Graph...</log>\n"
     ]
    }
   ],
   "source": [
    "model = LSTM(embedding_size = conf['embedding_size'], \n",
    "             num_classes=conf['voc_size'], \n",
    "             lst_layers=conf['lst_layers'],\n",
    "             ckpt_path=path)#path+nameckp)\n"
   ]
  },
  {
   "cell_type": "markdown",
   "metadata": {},
   "source": [
    "### Generate Sentences"
   ]
  },
  {
   "cell_type": "code",
   "execution_count": 5,
   "metadata": {
    "collapsed": false
   },
   "outputs": [
    {
     "name": "stdout",
     "output_type": "stream",
     "text": [
      "RESTORED\n",
      "INFO:tensorflow:Restoring parameters from /home/hani/ModelOut/lstmfromscratch/lstmoldnews/hani_lstm585-31\n"
     ]
    }
   ],
   "source": [
    "gSent = model.GenerateSentence(w2idx,idx2w,5)"
   ]
  },
  {
   "cell_type": "code",
   "execution_count": 6,
   "metadata": {
    "collapsed": false
   },
   "outputs": [
    {
     "name": "stdout",
     "output_type": "stream",
     "text": [
      "SENTENCE_START it’s going to take us even more benefits , it could well seem to be cooling in later . SENTENCE_END \n",
      "\n",
      "SENTENCE_START bank of england budget eventually set policy on raise interest rates on nov. laid with fed hike planning more long-term “a home here and said it would keep purchases ratio as it receives lives near the charge , said the fed , in tells remained aim to achieve any special owner of collateral . SENTENCE_END \n",
      "\n",
      "SENTENCE_START while the figure has reached 2004 in recent days , it has cancelled changing conditions for growth of 0.6 % for the time being , both loan and confidence . SENTENCE_END \n",
      "\n",
      "SENTENCE_START 2008 forecasts yields would be the tons , slumped to 1 % on a sustained basis , he live doing so would it.the it , ” mr. symposium guidelines at work on carrying out the finish of level on financial p3 for continued this year . SENTENCE_END \n",
      "\n",
      "SENTENCE_START the bank’s policymakers are occur over china’s efforts to independence up the following help talks in congress and of course sooner through is central bank board member joerg asmussen said governments agreed to some german capitol prior to the lower of their nation’s wouldn’t debt travel . SENTENCE_END \n",
      "\n"
     ]
    }
   ],
   "source": [
    "for s in gSent:\n",
    "    print(s,\"\\n\")\n"
   ]
  },
  {
   "cell_type": "markdown",
   "metadata": {},
   "source": [
    "### Get Embeddings"
   ]
  },
  {
   "cell_type": "code",
   "execution_count": 7,
   "metadata": {
    "collapsed": false
   },
   "outputs": [
    {
     "name": "stdout",
     "output_type": "stream",
     "text": [
      "model_checkpoint_path: \"/home/hani/ModelOut/lstmfromscratch/lstmoldnews/hani_lstm585-31\"\n",
      "all_model_checkpoint_paths: \"/home/hani/ModelOut/lstmfromscratch/lstmoldnews/hani_lstm585-29\"\n",
      "all_model_checkpoint_paths: \"/home/hani/ModelOut/lstmfromscratch/lstmoldnews/hani_lstm585-30\"\n",
      "all_model_checkpoint_paths: \"/home/hani/ModelOut/lstmfromscratch/lstmoldnews/hani_lstm585-31\"\n",
      "\n",
      "INFO:tensorflow:Restoring parameters from /home/hani/ModelOut/lstmfromscratch/lstmoldnews/hani_lstm585-31\n"
     ]
    }
   ],
   "source": [
    "embeddings=[]\n",
    "\n",
    "sess = tf.Session() \n",
    "sess.run(tf.global_variables_initializer())\n",
    "emb1=sess.run(model.embs)\n",
    "# restore session\n",
    "ckpt = tf.train.get_checkpoint_state(model.ckpt_path)\n",
    "print(ckpt)\n",
    "saver = tf.train.Saver()\n",
    "saver.restore(sess, ckpt.model_checkpoint_path)\n",
    "embeddings=sess.run(model.embs)\n",
    "sess.close()"
   ]
  },
  {
   "cell_type": "code",
   "execution_count": null,
   "metadata": {
    "collapsed": false
   },
   "outputs": [],
   "source": []
  },
  {
   "cell_type": "code",
   "execution_count": 8,
   "metadata": {
    "collapsed": false
   },
   "outputs": [],
   "source": [
    "distanceArray=np.inf*np.ones([embeddings.shape[0],embeddings.shape[0]])\n",
    "counter=0\n",
    "while(counter<distanceArray.shape[0]):\n",
    "    index=counter+1\n",
    "    while(index<distanceArray.shape[1]):\n",
    "        d = np.sum((embeddings[counter]-embeddings[index])**2)\n",
    "        distanceArray[counter,index]=d\n",
    "        distanceArray[index,counter]=d\n",
    "        index+=1\n",
    "    counter+=1\n",
    "    \n",
    "pickle.dump(distanceArray,open('~/distoldnews.pkl','wb'))    "
   ]
  },
  {
   "cell_type": "markdown",
   "metadata": {},
   "source": [
    "### Build graph from distance"
   ]
  },
  {
   "cell_type": "code",
   "execution_count": 45,
   "metadata": {
    "collapsed": false
   },
   "outputs": [],
   "source": [
    "\n",
    "# f=open('/home/hani/ModelOut/lstmfromscratch/edges.csv','w')\n",
    "# cutVal = np.percentile(np.reshape(distanceArray,-1),25)\n",
    "# for i in range(distanceArray.shape[0]):\n",
    "#     j=i+1\n",
    "#     while j<distanceArray.shape[1]:\n",
    "#         if distanceArray[i,j]>cutVal:\n",
    "#             f.write(str(i)+\",\"+str(j)+'\\n')\n",
    "#         j+=1\n",
    "# f.close()\n",
    "        \n"
   ]
  },
  {
   "cell_type": "markdown",
   "metadata": {
    "collapsed": false
   },
   "source": [
    "### Build Words similarity"
   ]
  },
  {
   "cell_type": "code",
   "execution_count": 9,
   "metadata": {
    "collapsed": false
   },
   "outputs": [],
   "source": [
    "\n",
    "# idx2w[0]='comma'\n",
    "# distanceArray=pickle.load(open('/home/hani/ModelOut/lstmfromscratch/dist.pkl','rb'))\n",
    "idx2w[w2idx[',']]='comma'\n",
    "# distanceArray=pickle.load(open('/home/hani/ModelOut/lstmfromscratch/distoldnews.pkl','rb'))\n",
    "\n",
    "\n",
    "delIndex=w2idx['UNKNOWN_TOKEN'],w2idx['SENTENCE_START'],w2idx['SENTENCE_END']\n",
    "for t in delIndex:\n",
    "    distanceArray[:,t]=np.inf\n",
    "    \n",
    "f=open('/home/hani/ModelOut/lstmfromscratch/lstmoldnews/wordsSimilarity.csv','w')\n",
    "\n",
    "for i in range(distanceArray.shape[0]):\n",
    "    sorted_index = np.argsort(distanceArray[i])[0:10]\n",
    "    str_line=\"\"\n",
    "    str_line+=idx2w[i]\n",
    "    for index in sorted_index:\n",
    "        str_line+=','+idx2w[index]\n",
    "    str_line+='\\n'\n",
    "    f.write(str_line)\n",
    "\n",
    "f.close()            "
   ]
  }
 ],
 "metadata": {
  "anaconda-cloud": {},
  "kernelspec": {
   "display_name": "Python [conda root]",
   "language": "python",
   "name": "conda-root-py"
  },
  "language_info": {
   "codemirror_mode": {
    "name": "ipython",
    "version": 3
   },
   "file_extension": ".py",
   "mimetype": "text/x-python",
   "name": "python",
   "nbconvert_exporter": "python",
   "pygments_lexer": "ipython3",
   "version": "3.5.2"
  }
 },
 "nbformat": 4,
 "nbformat_minor": 1
}
