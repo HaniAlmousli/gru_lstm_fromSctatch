{
 "cells": [
  {
   "cell_type": "code",
   "execution_count": 1,
   "metadata": {
    "collapsed": true
   },
   "outputs": [],
   "source": [
    "from GRUClass import *\n",
    "from loader import *\n",
    "import pdb\n",
    "import pickle"
   ]
  },
  {
   "cell_type": "code",
   "execution_count": 2,
   "metadata": {
    "collapsed": true
   },
   "outputs": [],
   "source": [
    "\n",
    "path='~/'\n",
    "name='hani_gru846'\n",
    "\n",
    "# [34] loss : 2.113287559135062\n",
    "# learning_rate : 5.8135348808718845e-05\n",
    "# **** [34] Valid loss : 103.21006349716954"
   ]
  },
  {
   "cell_type": "code",
   "execution_count": 3,
   "metadata": {
    "collapsed": false
   },
   "outputs": [],
   "source": [
    "conf,[w2idx,idx2w],[bValidLoss,train_loss]=pickle.load(open(path+name+'.pkl','rb'))"
   ]
  },
  {
   "cell_type": "code",
   "execution_count": 4,
   "metadata": {
    "collapsed": false
   },
   "outputs": [
    {
     "name": "stdout",
     "output_type": "stream",
     "text": [
      "\n",
      "<log> Building Graph...</log>\n"
     ]
    }
   ],
   "source": [
    "model = GRU(embedding_size = conf['embedding_size'], \n",
    "             num_classes=conf['voc_size'], \n",
    "             lst_layers=conf['lst_layers'],\n",
    "             ckpt_path=path)#path+nameckp)\n"
   ]
  },
  {
   "cell_type": "markdown",
   "metadata": {},
   "source": [
    "### Generate Sentences"
   ]
  },
  {
   "cell_type": "code",
   "execution_count": 5,
   "metadata": {
    "collapsed": false
   },
   "outputs": [
    {
     "name": "stdout",
     "output_type": "stream",
     "text": [
      "RESTORED\n",
      "INFO:tensorflow:Restoring parameters from /home/hani/ModelOut/lstmfromscratch/gruoldnews/hani_gru846-34\n"
     ]
    }
   ],
   "source": [
    "gSent = model.GenerateSentence(w2idx,idx2w,5)"
   ]
  },
  {
   "cell_type": "code",
   "execution_count": 6,
   "metadata": {
    "collapsed": false
   },
   "outputs": [
    {
     "name": "stdout",
     "output_type": "stream",
     "text": [
      "SENTENCE_START consumer confidence in august 2009 was still a reflection of a highest provide more damaging economic data than april-june effect had according to today’s numbers , the conference call tuesday with bets on the outlook . SENTENCE_END \n",
      "\n",
      "SENTENCE_START the fed expects the u.s. economy to grow near the fed’s 2 percent increase this year and over a third year of next year as financial conditions printing heightened volatility and we have to thirds the and thresholds of quantitative easing ? ” said extent , one of the fed’s dominant interest rates . SENTENCE_END \n",
      "\n",
      "SENTENCE_START we don’t think we need another spot and we’re doing momentum . SENTENCE_END \n",
      "\n",
      "SENTENCE_START kick in the 2002 , canadians began buying the general time — leaving that european 30-billion each cent.the growing market men in q4 about a stood on body in hobbled , then boxes — and echoing from a pipelines to their energy have , ” he said . SENTENCE_END \n",
      "\n",
      "SENTENCE_START income tax rates are up by us $ sectors to month . SENTENCE_END \n",
      "\n"
     ]
    }
   ],
   "source": [
    "for s in gSent:\n",
    "    print(s,\"\\n\")\n"
   ]
  },
  {
   "cell_type": "markdown",
   "metadata": {},
   "source": [
    "### Get Embeddings"
   ]
  },
  {
   "cell_type": "code",
   "execution_count": 7,
   "metadata": {
    "collapsed": false
   },
   "outputs": [
    {
     "name": "stdout",
     "output_type": "stream",
     "text": [
      "model_checkpoint_path: \"/home/hani/ModelOut/lstmfromscratch/gruoldnews/hani_gru846-34\"\n",
      "all_model_checkpoint_paths: \"/home/hani/ModelOut/lstmfromscratch/gruoldnews/hani_gru846-32\"\n",
      "all_model_checkpoint_paths: \"/home/hani/ModelOut/lstmfromscratch/gruoldnews/hani_gru846-33\"\n",
      "all_model_checkpoint_paths: \"/home/hani/ModelOut/lstmfromscratch/gruoldnews/hani_gru846-34\"\n",
      "\n",
      "INFO:tensorflow:Restoring parameters from /home/hani/ModelOut/lstmfromscratch/gruoldnews/hani_gru846-34\n"
     ]
    }
   ],
   "source": [
    "embeddings=[]\n",
    "\n",
    "sess = tf.Session() \n",
    "sess.run(tf.global_variables_initializer())\n",
    "emb1=sess.run(model.embs)\n",
    "# restore session\n",
    "ckpt = tf.train.get_checkpoint_state(model.ckpt_path)\n",
    "print(ckpt)\n",
    "saver = tf.train.Saver()\n",
    "saver.restore(sess, ckpt.model_checkpoint_path)\n",
    "embeddings=sess.run(model.embs)\n",
    "sess.close()"
   ]
  },
  {
   "cell_type": "code",
   "execution_count": null,
   "metadata": {
    "collapsed": false
   },
   "outputs": [],
   "source": []
  },
  {
   "cell_type": "code",
   "execution_count": 8,
   "metadata": {
    "collapsed": false
   },
   "outputs": [],
   "source": [
    "distanceArray=np.inf*np.ones([embeddings.shape[0],embeddings.shape[0]])\n",
    "counter=0\n",
    "while(counter<distanceArray.shape[0]):\n",
    "    index=counter+1\n",
    "    while(index<distanceArray.shape[1]):\n",
    "        d = np.sum((embeddings[counter]-embeddings[index])**2)\n",
    "        distanceArray[counter,index]=d\n",
    "        distanceArray[index,counter]=d\n",
    "        index+=1\n",
    "    counter+=1\n",
    "    \n",
    "pickle.dump(distanceArray,open('/home/hani/ModelOut/lstmfromscratch/distoldnews.pkl','wb'))    "
   ]
  },
  {
   "cell_type": "markdown",
   "metadata": {},
   "source": [
    "### Build graph from distance"
   ]
  },
  {
   "cell_type": "code",
   "execution_count": null,
   "metadata": {
    "collapsed": false
   },
   "outputs": [],
   "source": [
    "\n",
    "# f=open('/home/hani/ModelOut/lstmfromscratch/edges.csv','w')\n",
    "# cutVal = np.percentile(np.reshape(distanceArray,-1),25)\n",
    "# for i in range(distanceArray.shape[0]):\n",
    "#     j=i+1\n",
    "#     while j<distanceArray.shape[1]:\n",
    "#         if distanceArray[i,j]>cutVal:\n",
    "#             f.write(str(i)+\",\"+str(j)+'\\n')\n",
    "#         j+=1\n",
    "# f.close()\n",
    "        \n"
   ]
  },
  {
   "cell_type": "markdown",
   "metadata": {
    "collapsed": false
   },
   "source": [
    "### Build Words similarity"
   ]
  },
  {
   "cell_type": "code",
   "execution_count": null,
   "metadata": {
    "collapsed": false
   },
   "outputs": [],
   "source": [
    "\n",
    "# idx2w[0]='comma'\n",
    "idx2w[w2idx[',']]='comma'\n",
    "\n",
    "delIndex=w2idx['UNKNOWN_TOKEN'],w2idx['SENTENCE_START'],w2idx['SENTENCE_END']\n",
    "for t in delIndex:\n",
    "    distanceArray[:,t]=np.inf\n",
    "    \n",
    "f=open('~/wordsSimilarity.csv','w')\n",
    "\n",
    "for i in range(distanceArray.shape[0]):\n",
    "    sorted_index = np.argsort(distanceArray[i])[0:10]\n",
    "    str_line=\"\"\n",
    "    str_line+=idx2w[i]\n",
    "    for index in sorted_index:\n",
    "        str_line+=','+idx2w[index]\n",
    "    str_line+='\\n'\n",
    "    f.write(str_line)\n",
    "\n",
    "f.close()   \n"
   ]
  },
  {
   "cell_type": "code",
   "execution_count": null,
   "metadata": {
    "collapsed": false
   },
   "outputs": [],
   "source": []
  }
 ],
 "metadata": {
  "anaconda-cloud": {},
  "kernelspec": {
   "display_name": "Python [conda root]",
   "language": "python",
   "name": "conda-root-py"
  },
  "language_info": {
   "codemirror_mode": {
    "name": "ipython",
    "version": 3
   },
   "file_extension": ".py",
   "mimetype": "text/x-python",
   "name": "python",
   "nbconvert_exporter": "python",
   "pygments_lexer": "ipython3",
   "version": "3.5.2"
  }
 },
 "nbformat": 4,
 "nbformat_minor": 1
}
